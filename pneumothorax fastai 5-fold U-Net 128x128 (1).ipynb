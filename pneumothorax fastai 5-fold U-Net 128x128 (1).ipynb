{
 "cells": [
  {
   "cell_type": "markdown",
   "metadata": {},
   "source": [
    "Student Name: Usama zidan\n",
    "Id: 18025713\n",
    "######\n",
    "This file handles loading the data, training and exporting the segmentaiton models\n",
    "Most of functions used are well documented in the fastai liberary site"
   ]
  },
  {
   "cell_type": "code",
   "execution_count": null,
   "metadata": {
    "_cell_guid": "b1076dfc-b9ad-4769-8c92-a6c4dae69d19",
    "_uuid": "8f2839f25d086af736a60e9eeb907d3b93b6e0e5",
    "collapsed": true
   },
   "outputs": [],
   "source": [
    "import sys\n",
    "%matplotlib inline\n",
    "import fastai\n",
    "from fastai.vision import *\n",
    "from mask_functions import *\n",
    "from sklearn.model_selection import KFold\n",
    "from unet_loss import *"
   ]
  },
  {
   "cell_type": "code",
   "execution_count": null,
   "metadata": {
    "collapsed": true
   },
   "outputs": [],
   "source": [
    "fastai.__version__"
   ]
  },
  {
   "cell_type": "code",
   "execution_count": null,
   "metadata": {
    "collapsed": true
   },
   "outputs": [],
   "source": [
    "#Loading path to data \n",
    "SZ = 256\n",
    "# path = Path(f'/cs/home/khfy6uat/data/data1024/train') # path to full data \n",
    "path = Path(f'/cs/home/khfy6uat/data/one_class_data_1024') # path to one case data\n"
   ]
  },
  {
   "cell_type": "code",
   "execution_count": null,
   "metadata": {
    "_kg_hide-input": false,
    "collapsed": true
   },
   "outputs": [],
   "source": [
    "# Setting div=True in open_mask\n",
    "class SegmentationLabelList(SegmentationLabelList):\n",
    "    def open(self, fn): return open_mask(fn, div=True)\n",
    "    \n",
    "class SegmentationItemList(SegmentationItemList):\n",
    "    _label_cls = SegmentationLabelList\n",
    "\n",
    "# Setting transformations on masks to False on test set\n",
    "def transform(self, tfms:Optional[Tuple[TfmList,TfmList]]=(None,None), **kwargs):\n",
    "    if not tfms: tfms=(None,None)\n",
    "    assert is_listy(tfms) and len(tfms) == 2\n",
    "    self.train.transform(tfms[0], **kwargs)\n",
    "    self.valid.transform(tfms[1], **kwargs)\n",
    "    kwargs['tfm_y'] = False # Test data has no labels\n",
    "    if self.test: self.test.transform(tfms[1], **kwargs)\n",
    "    return self\n",
    "fastai.data_block.ItemLists.transform = transform"
   ]
  },
  {
   "cell_type": "code",
   "execution_count": null,
   "metadata": {
    "collapsed": true
   },
   "outputs": [],
   "source": [
    "#metric definitions\n",
    "def dice2(input:Tensor, targs:Tensor, iou:bool=False, eps:float=1e-8)->Rank0Tensor:\n",
    "    \"Dice coefficient metric for binary target. If iou=True, returns iou metric, classic for segmentation problems.\"\n",
    "    n = targs.shape[0]\n",
    "    input = input.argmax(dim=1).view(-1)\n",
    "    targs = targs.view(-1)\n",
    "    intersect = (input * targs).sum(dim=-1).float()# A (and) B \n",
    "    union = (input+targs).sum(dim=-1).float()# A + B [Total not actuall union]\n",
    "    if not iou: l = 2. * (intersect+eps) / (union+eps)\n",
    "    return l\n",
    "def iou(input:Tensor, targs:Tensor, iou:bool=True, eps:float=1e-8)->Rank0Tensor:\n",
    "    \"Dice coefficient metric for binary target. If iou=True, returns iou metric, classic for segmentation problems.\"\n",
    "    n = targs.shape[0]\n",
    "    input = input.argmax(dim=1).view(-1)\n",
    "    targs = targs.view(-1)\n",
    "    intersect = (input * targs).sum(dim=-1).float()\n",
    "    union = (input+targs).sum(dim=-1).float()\n",
    "    l = (intersect+eps) / (union-intersect+eps)\n",
    "    return l"
   ]
  },
  {
   "cell_type": "code",
   "execution_count": null,
   "metadata": {},
   "outputs": [],
   "source": [
    "# Create databunch\n",
    "\n",
    "data = (SegmentationItemList.from_folder(path=path/'train')\n",
    "        .split_by_rand_pct(.2)\n",
    "        .label_from_func(lambda x : str(x).replace('train', 'masks'), classes=[0, 1])\n",
    "        .transform(get_transforms(), size=256, tfm_y=True)\n",
    "        .databunch(path=Path('.'), bs=12)\n",
    "        .normalize(imagenet_stats))\n",
    "data"
   ]
  },
  {
   "cell_type": "code",
   "execution_count": null,
   "metadata": {},
   "outputs": [],
   "source": [
    "#initializing logging framework\n",
    "from wandb.fastai import WandbCallback\n",
    "import wandb\n",
    "\n",
    "run = wandb.init(project='unet_testing_loss funtion',name=\"One_class_unet_JACC_256_adam_generated\",reinit =True)\n",
    "\n",
    "wandbclc=partial(WandbCallback,log=\"all\",input_type='images')\n"
   ]
  },
  {
   "cell_type": "code",
   "execution_count": null,
   "metadata": {
    "collapsed": true
   },
   "outputs": [],
   "source": [
    "# Create U-Net with a pretrained resnet34 as encoder\n",
    "learn = unet_learner(data,models.resnet34,metrics=[dice,dice2,iou],callback_fns=[wandbclc])"
   ]
  },
  {
   "cell_type": "code",
   "execution_count": null,
   "metadata": {
    "collapsed": true
   },
   "outputs": [],
   "source": [
    "learn.summary()"
   ]
  },
  {
   "cell_type": "code",
   "execution_count": null,
   "metadata": {},
   "outputs": [],
   "source": [
    "wrap_BN(learn.model.layers)"
   ]
  },
  {
   "cell_type": "code",
   "execution_count": null,
   "metadata": {},
   "outputs": [],
   "source": [
    "learn.model.layers[1]=bn2group(learn.model.layers[1])\n",
    "for i in [4,5,6,7]:\n",
    "    learn.model.layers[i].bn=bn2group(learn.model.layers[i].bn)\n",
    "  "
   ]
  },
  {
   "cell_type": "code",
   "execution_count": null,
   "metadata": {
    "collapsed": true
   },
   "outputs": [],
   "source": [
    "### comment in the below line to load a model\n",
    "# learn.load('/cs/home/khfy6uat/bin/oneclass_normalUnet_Combo_1024_2')\n"
   ]
  },
  {
   "cell_type": "code",
   "execution_count": null,
   "metadata": {
    "collapsed": true
   },
   "outputs": [],
   "source": [
    "# Fit one cycle of 6 epochs with max lr of 1e-3\n",
    "lr = 1e-3\n",
    "#loading loss function\n",
    "learn.loss_func = JaccardLoss()\n"
   ]
  },
  {
   "cell_type": "code",
   "execution_count": null,
   "metadata": {
    "collapsed": true
   },
   "outputs": [],
   "source": [
    "# Fit one cycle of 12 epochs\n",
    "lr = 1e-3\n",
    "learn.fit_one_cycle(12, slice(lr/30, lr),callbacks=ShowGraph(learn))\n"
   ]
  },
  {
   "cell_type": "code",
   "execution_count": null,
   "metadata": {},
   "outputs": [],
   "source": [
    "#saving model\n",
    "learn.save('/cs/home/khfy6uat/bin/oneclass_normalUnet_JACC_adam_BN_generated')\n"
   ]
  },
  {
   "cell_type": "code",
   "execution_count": null,
   "metadata": {},
   "outputs": [],
   "source": []
  },
  {
   "cell_type": "code",
   "execution_count": null,
   "metadata": {},
   "outputs": [],
   "source": [
    "# for k-fold corss validation, the remainag lines cross validate the model by runing the smae cycle 5 times on the sliced data\n",
    "kf = KFold(n_splits=5, shuffle=True, random_state=2020)\n",
    "#Loading path to data \n",
    "SZ = 256\n",
    "# path = Path(f'/cs/home/khfy6uat/data/data1024/train') # path to full data \n",
    "path = Path(f'/cs/home/khfy6uat/data/one_class_data_1024') # path to one case data\n",
    "\n",
    "def get_fold(fold_number):\n",
    "    valid_idx = list(kf.split(list(range(len((path/'train').ls())))))[fold_number][1]\n",
    "    print(valid_idx)\n",
    "    # Create databunch\n",
    "    data = (SegmentationItemList.from_folder(path=path/'train')\n",
    "        .split_by_rand_pct(.2)\n",
    "        .label_from_func(lambda x : str(x).replace('train', 'masks'), classes=[0, 1])\n",
    "        .transform(get_transforms(), size=256, tfm_y=True)\n",
    "        .databunch(path=Path('.'), bs=12)\n",
    "        .normalize(imagenet_stats))\n",
    "    return data"
   ]
  },
  {
   "cell_type": "code",
   "execution_count": null,
   "metadata": {},
   "outputs": [],
   "source": [
    "from wandb.fastai import WandbCallback\n",
    "import wandb\n",
    "for fold_number in range(5):\n",
    "    from wandb.fastai import WandbCallback\n",
    "    import wandb\n",
    "    print(\"Fold:\"+str(fold_number))\n",
    "    # simply change the the string for the varaive 'name' to change the output fold model name depending on wich model to train\n",
    "\n",
    "    run = wandb.init(project='U-Net cross validation',name=\"Baseline_fold_\"+str(fold_number),reinit =True)\n",
    "\n",
    "    wandbclc=partial(WandbCallback,log=\"all\",input_type='images')\n",
    "\n",
    "    data=get_fold(fold_number)\n",
    "    \n",
    "    learn = unet_learner(data,models.resnet34,metrics=[dice,dice2,iou],callback_fns=[wandbclc])\n",
    "    # Fit one cycle of 6 epochs with max lr of 1e-3\n",
    "    lr = 1e-3\n",
    "    learn.loss_fn = JaccardLoss()\n",
    "    print(learn.loss_fn,learn.loss_func)\n",
    "    learn.fit_one_cycle(6,lr)\n",
    "    # Unfreeze the encoder (resnet34)\n",
    "    learn.unfreeze()\n",
    "    # Fit one cycle of 12 epochs\n",
    "    lr = 1e-3\n",
    "    learn.fit_one_cycle(12, slice(lr/30, lr),callbacks=ShowGraph(learn))\n",
    "    learn.save(\"Baseline_fold_\"+str(fold_number))"
   ]
  },
  {
   "cell_type": "code",
   "execution_count": null,
   "metadata": {},
   "outputs": [],
   "source": []
  }
 ],
 "metadata": {
  "kernelspec": {
   "display_name": "Python 3",
   "language": "python",
   "name": "python3"
  },
  "language_info": {
   "codemirror_mode": {
    "name": "ipython",
    "version": 3
   },
   "file_extension": ".py",
   "mimetype": "text/x-python",
   "name": "python",
   "nbconvert_exporter": "python",
   "pygments_lexer": "ipython3",
   "version": "3.6.8"
  }
 },
 "nbformat": 4,
 "nbformat_minor": 1
}